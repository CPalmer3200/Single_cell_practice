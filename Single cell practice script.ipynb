{
 "cells": [
  {
   "cell_type": "markdown",
   "id": "203851a3",
   "metadata": {},
   "source": [
    "<h1 style=\"font-size:3rem;color:blue;\">Python Analysis Practice of Single-Cell RNAseq Data</h1>"
   ]
  },
  {
   "cell_type": "markdown",
   "id": "eaf46661",
   "metadata": {},
   "source": [
    "# Data Source"
   ]
  },
  {
   "cell_type": "code",
   "execution_count": null,
   "id": "fd4887a1",
   "metadata": {},
   "outputs": [],
   "source": [
    "# All data used in this exercise has been sourced from: https://www.ncbi.nlm.nih.gov/geo/query/acc.cgi?acc=GSE171524\n",
    "# This script is primarily used for data analysis practice for GitHub user CPalmer3200"
   ]
  },
  {
   "cell_type": "markdown",
   "id": "cb0f3f20",
   "metadata": {},
   "source": [
    "# Installing scanpy module and importing data"
   ]
  },
  {
   "cell_type": "code",
   "execution_count": null,
   "id": "6ff845b1",
   "metadata": {},
   "outputs": [],
   "source": [
    "# !pip install scanpy"
   ]
  },
  {
   "cell_type": "code",
   "execution_count": 1,
   "id": "a583f76c",
   "metadata": {},
   "outputs": [],
   "source": [
    "import scanpy as sc"
   ]
  },
  {
   "cell_type": "code",
   "execution_count": null,
   "id": "47530425",
   "metadata": {},
   "outputs": [],
   "source": [
    "data1 = sc.read_csv('C:/Users/chris/Single cell practice/GSM5226574_C51ctr_raw_counts.csv').T\n",
    "data1"
   ]
  },
  {
   "cell_type": "markdown",
   "id": "a65b32a8",
   "metadata": {},
   "source": [
    "# Pre-processing - doublet removal"
   ]
  },
  {
   "cell_type": "code",
   "execution_count": null,
   "id": "79f50d23",
   "metadata": {},
   "outputs": [],
   "source": [
    "# Initial stage to pre-processing is doublet removal\n",
    "# This will allow the computer to predict doublets (when two or more cells are mistaken as a single cell)\n",
    "# This should be done on individual samples instead of integrated samples"
   ]
  },
  {
   "cell_type": "code",
   "execution_count": null,
   "id": "c586e059",
   "metadata": {},
   "outputs": [],
   "source": [
    "# !pip install scvi-tools"
   ]
  },
  {
   "cell_type": "code",
   "execution_count": null,
   "id": "55dba6c2",
   "metadata": {},
   "outputs": [],
   "source": [
    "# !pip install torchaudio"
   ]
  },
  {
   "cell_type": "code",
   "execution_count": 2,
   "id": "3023d74d",
   "metadata": {
    "scrolled": false
   },
   "outputs": [
    {
     "name": "stderr",
     "output_type": "stream",
     "text": [
      "C:\\ProgramData\\anaconda3\\Lib\\site-packages\\torchvision\\io\\image.py:13: UserWarning: Failed to load image Python extension: 'Could not find module 'C:\\ProgramData\\anaconda3\\Lib\\site-packages\\torchvision\\image.pyd' (or one of its dependencies). Try using the full path with constructor syntax.'If you don't plan on using image functionality from `torchvision.io`, you can ignore this warning. Otherwise, there might be something wrong with your environment. Did you have `libjpeg` or `libpng` installed before building `torchvision` from source?\n",
      "  warn(\n",
      "C:\\Users\\chris\\AppData\\Roaming\\Python\\Python311\\site-packages\\scvi\\_settings.py:63: UserWarning: Since v1.0.0, scvi-tools no longer uses a random seed by default. Run `scvi.settings.seed = 0` to reproduce results from previous versions.\n",
      "  self.seed = seed\n",
      "C:\\Users\\chris\\AppData\\Roaming\\Python\\Python311\\site-packages\\scvi\\_settings.py:70: UserWarning: Setting `dl_pin_memory_gpu_training` is deprecated in v1.0 and will be removed in v1.1. Please pass in `pin_memory` to the data loaders instead.\n",
      "  self.dl_pin_memory_gpu_training = (\n",
      "Global seed set to 0\n"
     ]
    }
   ],
   "source": [
    "import scvi\n",
    "scvi.settings.seed = 0"
   ]
  },
  {
   "cell_type": "code",
   "execution_count": null,
   "id": "594b535f",
   "metadata": {},
   "outputs": [],
   "source": [
    "# Filter genes out that appear in fewer than 10 cells\n",
    "sc.pp.filter_genes(data1, min_cells = 10)"
   ]
  },
  {
   "cell_type": "code",
   "execution_count": null,
   "id": "5c0767d8",
   "metadata": {},
   "outputs": [],
   "source": [
    "data1"
   ]
  },
  {
   "cell_type": "code",
   "execution_count": null,
   "id": "1faf5d58",
   "metadata": {},
   "outputs": [],
   "source": [
    "# !pip install --user scikit-misc"
   ]
  },
  {
   "cell_type": "code",
   "execution_count": null,
   "id": "0b8e3699",
   "metadata": {},
   "outputs": [],
   "source": [
    "# Keep 2000 top variable genes (2000 genes that describe the data the best)\n",
    "sc.pp.highly_variable_genes(data1, n_top_genes = 2000, subset = True, flavor = 'seurat_v3')"
   ]
  },
  {
   "cell_type": "code",
   "execution_count": null,
   "id": "9f23d3f0",
   "metadata": {},
   "outputs": [],
   "source": [
    "# Setup SCVI model with default parameters and train\n",
    "scvi.model.SCVI.setup_anndata(data1)\n",
    "vae = scvi.model.SCVI(data1)\n",
    "vae.train()"
   ]
  },
  {
   "cell_type": "code",
   "execution_count": null,
   "id": "21067891",
   "metadata": {},
   "outputs": [],
   "source": [
    "# Create solo model which predicts doublets and pass the vae model through\n",
    "solo = scvi.external.SOLO.from_scvi_model(vae)\n",
    "solo.train()"
   ]
  },
  {
   "cell_type": "code",
   "execution_count": null,
   "id": "8652ee8f",
   "metadata": {},
   "outputs": [],
   "source": [
    "# Return df and make new column with predicted label\n",
    "df = solo.predict()\n",
    "df['prediction'] = solo.predict(soft = False)\n",
    "\n",
    "df"
   ]
  },
  {
   "cell_type": "code",
   "execution_count": null,
   "id": "8efcda82",
   "metadata": {},
   "outputs": [],
   "source": [
    "#Count the predictions\n",
    "df.groupby('prediction').count()"
   ]
  },
  {
   "cell_type": "code",
   "execution_count": null,
   "id": "5fd385a6",
   "metadata": {},
   "outputs": [],
   "source": [
    "#Assign the predicted doublets to their own df - this will be used to filter data1\n",
    "doublets = df[(df.prediction == 'doublet')]\n",
    "doublets"
   ]
  },
  {
   "cell_type": "code",
   "execution_count": null,
   "id": "6b255ae6",
   "metadata": {},
   "outputs": [],
   "source": [
    "# Reload data1 variable\n",
    "data1 = sc.read_csv('C:/Users/chris/Single cell practice/GSM5226574_C51ctr_raw_counts.csv').T\n",
    "data1"
   ]
  },
  {
   "cell_type": "code",
   "execution_count": null,
   "id": "f464d33e",
   "metadata": {},
   "outputs": [],
   "source": [
    "# Add binary variable to check if data1 objects are predicted doublets\n",
    "data1.obs['doublet'] = data1.obs.index.isin(doublets.index)\n",
    "data1.obs"
   ]
  },
  {
   "cell_type": "code",
   "execution_count": null,
   "id": "fc2523bc",
   "metadata": {},
   "outputs": [],
   "source": [
    "# Filter out the predicted doublets that appear true (DOUBLET REMOVAL COMPLETE)\n",
    "data1 = data1[~data1.obs.doublet]"
   ]
  },
  {
   "cell_type": "markdown",
   "id": "294bc879",
   "metadata": {},
   "source": [
    "# Pre-processing - labelling of mitochondrial genes"
   ]
  },
  {
   "cell_type": "code",
   "execution_count": null,
   "id": "3d34bff3",
   "metadata": {},
   "outputs": [],
   "source": [
    "# Mitochondrial genes start with MT- so use python to filter these\n",
    "data1.var['mt'] = data1.var.index.str.startswith('MT-')\n",
    "data1.var"
   ]
  },
  {
   "cell_type": "markdown",
   "id": "6cfac587",
   "metadata": {},
   "source": [
    "# Pre-processing - labelling ribosomal genes"
   ]
  },
  {
   "cell_type": "code",
   "execution_count": 9,
   "id": "55216c06",
   "metadata": {},
   "outputs": [],
   "source": [
    "import pandas as pd"
   ]
  },
  {
   "cell_type": "code",
   "execution_count": 10,
   "id": "ed3eebd0",
   "metadata": {},
   "outputs": [],
   "source": [
    "#Import list of ribosomal gene names for filtering\n",
    "ribo_url = \"http://software.broadinstitute.org/gsea/msigdb/download_geneset.jsp?geneSetName=KEGG_RIBOSOME&fileType=txt\""
   ]
  },
  {
   "cell_type": "code",
   "execution_count": 11,
   "id": "789eb410",
   "metadata": {},
   "outputs": [
    {
     "data": {
      "text/html": [
       "<div>\n",
       "<style scoped>\n",
       "    .dataframe tbody tr th:only-of-type {\n",
       "        vertical-align: middle;\n",
       "    }\n",
       "\n",
       "    .dataframe tbody tr th {\n",
       "        vertical-align: top;\n",
       "    }\n",
       "\n",
       "    .dataframe thead th {\n",
       "        text-align: right;\n",
       "    }\n",
       "</style>\n",
       "<table border=\"1\" class=\"dataframe\">\n",
       "  <thead>\n",
       "    <tr style=\"text-align: right;\">\n",
       "      <th></th>\n",
       "      <th>0</th>\n",
       "    </tr>\n",
       "  </thead>\n",
       "  <tbody>\n",
       "    <tr>\n",
       "      <th>0</th>\n",
       "      <td>FAU</td>\n",
       "    </tr>\n",
       "    <tr>\n",
       "      <th>1</th>\n",
       "      <td>MRPL13</td>\n",
       "    </tr>\n",
       "    <tr>\n",
       "      <th>2</th>\n",
       "      <td>RPL10</td>\n",
       "    </tr>\n",
       "    <tr>\n",
       "      <th>3</th>\n",
       "      <td>RPL10A</td>\n",
       "    </tr>\n",
       "    <tr>\n",
       "      <th>4</th>\n",
       "      <td>RPL10L</td>\n",
       "    </tr>\n",
       "    <tr>\n",
       "      <th>...</th>\n",
       "      <td>...</td>\n",
       "    </tr>\n",
       "    <tr>\n",
       "      <th>83</th>\n",
       "      <td>RPS9</td>\n",
       "    </tr>\n",
       "    <tr>\n",
       "      <th>84</th>\n",
       "      <td>RPSA</td>\n",
       "    </tr>\n",
       "    <tr>\n",
       "      <th>85</th>\n",
       "      <td>RSL24D1</td>\n",
       "    </tr>\n",
       "    <tr>\n",
       "      <th>86</th>\n",
       "      <td>RSL24D1P11</td>\n",
       "    </tr>\n",
       "    <tr>\n",
       "      <th>87</th>\n",
       "      <td>UBA52</td>\n",
       "    </tr>\n",
       "  </tbody>\n",
       "</table>\n",
       "<p>88 rows × 1 columns</p>\n",
       "</div>"
      ],
      "text/plain": [
       "             0\n",
       "0          FAU\n",
       "1       MRPL13\n",
       "2        RPL10\n",
       "3       RPL10A\n",
       "4       RPL10L\n",
       "..         ...\n",
       "83        RPS9\n",
       "84        RPSA\n",
       "85     RSL24D1\n",
       "86  RSL24D1P11\n",
       "87       UBA52\n",
       "\n",
       "[88 rows x 1 columns]"
      ]
     },
     "execution_count": 11,
     "metadata": {},
     "output_type": "execute_result"
    }
   ],
   "source": [
    "# Format list of ribosomal genes\n",
    "ribo_genes = pd.read_table(ribo_url, skiprows=2, header=None)\n",
    "ribo_genes"
   ]
  },
  {
   "cell_type": "code",
   "execution_count": null,
   "id": "046b1e45",
   "metadata": {},
   "outputs": [],
   "source": [
    "# Check if genes in data1 are present in the ribo_genes list\n",
    "data1.var['ribo'] = data1.var_names.isin(ribo_genes[0].values)\n",
    "data1.var"
   ]
  },
  {
   "cell_type": "code",
   "execution_count": null,
   "id": "aea9d661",
   "metadata": {},
   "outputs": [],
   "source": [
    "# Generate quality control statistics from scanpy\n",
    "sc.pp.calculate_qc_metrics(data1, qc_vars=['mt', 'ribo'], percent_top = None, log1p = False, inplace = True)\n",
    "data1.var"
   ]
  },
  {
   "cell_type": "code",
   "execution_count": null,
   "id": "baba2a67",
   "metadata": {},
   "outputs": [],
   "source": [
    "#Mitochondrial/Ribosomal count and percentages are now available in the observations df\n",
    "data1.obs"
   ]
  },
  {
   "cell_type": "code",
   "execution_count": null,
   "id": "efac578f",
   "metadata": {},
   "outputs": [],
   "source": [
    "# Filter out genes that were in fewer than 3 cells\n",
    "sc.pp.filter_genes(data1, min_cells = 3)\n",
    "\n",
    "# Sort the data by n_cells_by_counts\n",
    "data1.var.sort_values('n_cells_by_counts')"
   ]
  },
  {
   "cell_type": "code",
   "execution_count": null,
   "id": "12f58d41",
   "metadata": {},
   "outputs": [],
   "source": [
    "# This dataset has likely already been filtered for total_counts of genes - this should be checked before proceeding\n",
    "data1.obs.sort_values('total_counts')"
   ]
  },
  {
   "cell_type": "code",
   "execution_count": null,
   "id": "df98ecdb",
   "metadata": {},
   "outputs": [],
   "source": [
    "# Plot the quality control metrics to look for outliers to exclude\n",
    "sc.pl.violin(data1, ['n_genes_by_counts', 'total_counts', 'pct_counts_mt', 'pct_counts_ribo'], jitter=0.4, multi_panel=True)"
   ]
  },
  {
   "cell_type": "code",
   "execution_count": 4,
   "id": "076b03ac",
   "metadata": {},
   "outputs": [],
   "source": [
    "# Use numpy to find and filter the 98 percentile value\n",
    "import numpy as np"
   ]
  },
  {
   "cell_type": "code",
   "execution_count": null,
   "id": "d746c8fa",
   "metadata": {},
   "outputs": [],
   "source": [
    "upper_lim = np.quantile(data1.obs.n_genes_by_counts.values, .98)\n",
    "upper_lim"
   ]
  },
  {
   "cell_type": "code",
   "execution_count": null,
   "id": "b27123da",
   "metadata": {},
   "outputs": [],
   "source": [
    "data1 = data1[data1.obs.n_genes_by_counts < upper_lim]\n",
    "data1.obs"
   ]
  },
  {
   "cell_type": "code",
   "execution_count": null,
   "id": "fda05d4b",
   "metadata": {},
   "outputs": [],
   "source": [
    "# Filter out the top 20% of pct_counts_mt\n",
    "data1 = data1[data1.obs.pct_counts_mt < 20]\n",
    "data1.obs"
   ]
  },
  {
   "cell_type": "code",
   "execution_count": null,
   "id": "05d8fdf7",
   "metadata": {},
   "outputs": [],
   "source": [
    "#Filter out pct_counts_ribo above the value 2 (check the violin plot)\n",
    "data1 = data1[data1.obs.pct_counts_ribo < 2]\n",
    "data1.obs"
   ]
  },
  {
   "cell_type": "code",
   "execution_count": null,
   "id": "60d970ad",
   "metadata": {},
   "outputs": [],
   "source": [
    "# The data has now been cleaned for doublets and outliers and is ready for clustering and analysis\n",
    "data1"
   ]
  },
  {
   "cell_type": "markdown",
   "id": "5c09c38a",
   "metadata": {},
   "source": [
    "# Normalisation"
   ]
  },
  {
   "cell_type": "code",
   "execution_count": null,
   "id": "6f84381a",
   "metadata": {},
   "outputs": [],
   "source": [
    "# Permits comparison of cells and genes by normalising the data to account for biases arising from sequencing, etc\n",
    "data1.X.sum(axis = 1)"
   ]
  },
  {
   "cell_type": "code",
   "execution_count": null,
   "id": "99f9ef32",
   "metadata": {},
   "outputs": [],
   "source": [
    "# Normalise every cell to 10,000 UMI\n",
    "sc.pp.normalize_total(data1, target_sum=1e4)"
   ]
  },
  {
   "cell_type": "code",
   "execution_count": null,
   "id": "fb5acc04",
   "metadata": {},
   "outputs": [],
   "source": [
    "# The data has now been normalised\n",
    "data1.X.sum(axis = 1)\n",
    "\n",
    "# Change to log counts and recall\n",
    "sc.pp.log1p(data1)\n",
    "data1.X.sum(axis = 1)"
   ]
  },
  {
   "cell_type": "code",
   "execution_count": null,
   "id": "741f664b",
   "metadata": {},
   "outputs": [],
   "source": [
    "# Data is now comparable and must be saved in this instance - many functions use this .raw data\n",
    "data1.raw = data1"
   ]
  },
  {
   "cell_type": "markdown",
   "id": "f2b3c0e8",
   "metadata": {},
   "source": [
    "# Clustering"
   ]
  },
  {
   "cell_type": "code",
   "execution_count": null,
   "id": "668a78c3",
   "metadata": {},
   "outputs": [],
   "source": [
    "# Find 2000 top highly variable genes - adds in stats about gene variability\n",
    "sc.pp.highly_variable_genes(data1, n_top_genes=2000)\n",
    "data1.var"
   ]
  },
  {
   "cell_type": "code",
   "execution_count": null,
   "id": "b16559ac",
   "metadata": {},
   "outputs": [],
   "source": [
    "# Highly variable genes can be plotted easily using scanpy function\n",
    "sc.pl.highly_variable_genes(data1)"
   ]
  },
  {
   "cell_type": "code",
   "execution_count": null,
   "id": "29cbaa2d",
   "metadata": {},
   "outputs": [],
   "source": [
    "# Filter out not highly variable genes - this does not impact the .raw data save\n",
    "data1 = data1[:, data1.var.highly_variable]\n",
    "data1"
   ]
  },
  {
   "cell_type": "code",
   "execution_count": null,
   "id": "a373d4ea",
   "metadata": {},
   "outputs": [],
   "source": [
    "# Regress out the differences arising from total counts, mitochondrial counts and ribosomal counts\n",
    "# This removes variations in the data that are due to processing and sample quality\n",
    "sc.pp.regress_out(data1, ['total_counts', 'pct_counts_mt', 'pct_counts_ribo'])\n",
    "data1"
   ]
  },
  {
   "cell_type": "code",
   "execution_count": null,
   "id": "e347feb8",
   "metadata": {},
   "outputs": [],
   "source": [
    "# Normalise each gene to the unit variance of each gene\n",
    "sc.pp.scale(data1, max_value=10)"
   ]
  },
  {
   "cell_type": "code",
   "execution_count": null,
   "id": "988fa8af",
   "metadata": {},
   "outputs": [],
   "source": [
    "# Run PCA (Principle Component Analysis) to reduce the data dimensions\n",
    "sc.tl.pca(data1, svd_solver='arpack')\n",
    "# Neighbourhood looks at distance and creates a matrix which is used for clustering\n",
    "sc.pp.neighbors(data1, n_pcs=30)"
   ]
  },
  {
   "cell_type": "code",
   "execution_count": null,
   "id": "97d36a12",
   "metadata": {},
   "outputs": [],
   "source": [
    "# Use umap to project the data from ~30 dimensions to just 2 - each point is a single cell\n",
    "sc.tl.umap(data1)"
   ]
  },
  {
   "cell_type": "code",
   "execution_count": null,
   "id": "9a381926",
   "metadata": {},
   "outputs": [],
   "source": [
    "sc.pl.umap(data1)"
   ]
  },
  {
   "cell_type": "code",
   "execution_count": null,
   "id": "93307d12",
   "metadata": {},
   "outputs": [],
   "source": [
    "# Assigning clusters requires the leiden algorithm\n",
    "# !pip install leidenalg"
   ]
  },
  {
   "cell_type": "code",
   "execution_count": null,
   "id": "0dc9a9e0",
   "metadata": {},
   "outputs": [],
   "source": [
    "#Run the leiden algorithm to generate clusters - Resolution [0-1] where 0 is the least clusters and 1 is the most\n",
    "sc.tl.leiden(data1, resolution=0.5)"
   ]
  },
  {
   "cell_type": "code",
   "execution_count": null,
   "id": "c1b78958",
   "metadata": {},
   "outputs": [],
   "source": [
    "# Leiden column has now been added to the observations table\n",
    "data1.obs"
   ]
  },
  {
   "cell_type": "code",
   "execution_count": null,
   "id": "c03f30cd",
   "metadata": {},
   "outputs": [],
   "source": [
    "# The cells can now be coloured based on the leiden label\n",
    "sc.pl.umap(data1, color=['leiden'])"
   ]
  },
  {
   "cell_type": "markdown",
   "id": "97ac414c",
   "metadata": {},
   "source": [
    "# Integration of multiple samples"
   ]
  },
  {
   "cell_type": "code",
   "execution_count": 5,
   "id": "b9229463",
   "metadata": {},
   "outputs": [],
   "source": [
    "# Function for doublet removal, pre-processing and formatting\n",
    "\n",
    "def pp(csv_path):\n",
    "    adata = sc.read_csv(csv_path).T\n",
    "    sc.pp.filter_genes(adata, min_cells = 10)\n",
    "    sc.pp.highly_variable_genes(adata, n_top_genes = 2000, subset = True, flavor = 'seurat_v3')\n",
    "    scvi.model.SCVI.setup_anndata(adata)\n",
    "    vae = scvi.model.SCVI(adata)\n",
    "    vae.train()\n",
    "    solo = scvi.external.SOLO.from_scvi_model(vae)\n",
    "    solo.train()\n",
    "    df = solo.predict()\n",
    "    df['prediction'] = solo.predict(soft = False)\n",
    "    df.index = df.index.map(lambda x: x[:-2])\n",
    "    df['dif'] = df.doublet - df.singlet\n",
    "    doublets = df[(df.prediction == 'doublet') & (df.dif > 1)]\n",
    "    \n",
    "    adata = sc.read_csv(csv_path).T\n",
    "    adata.obs['Sample'] = csv_path.split('_')[1] #'/GSM5226574_C51ctr_raw_counts.csv'\n",
    "    \n",
    "    adata.obs['doublet'] = adata.obs.index.isin(doublets.index)\n",
    "    adata = adata[~adata.obs.doublet]\n",
    "    \n",
    "    \n",
    "    sc.pp.filter_cells(adata, min_genes=200) #get rid of cells with fewer than 200 genes\n",
    "    #sc.pp.filter_genes(adata, min_cells=3) #get rid of genes that are found in fewer than 3 cells\n",
    "    adata.var['mt'] = adata.var_names.str.startswith('mt-')  # annotate the group of mitochondrial genes as 'mt'\n",
    "    adata.var['ribo'] = adata.var_names.isin(ribo_genes[0].values)\n",
    "    sc.pp.calculate_qc_metrics(adata, qc_vars=['mt', 'ribo'], percent_top=None, log1p=False, inplace=True)\n",
    "    upper_lim = np.quantile(adata.obs.n_genes_by_counts.values, .98)\n",
    "    adata = adata[adata.obs.n_genes_by_counts < upper_lim]\n",
    "    adata = adata[adata.obs.pct_counts_mt < 20]\n",
    "    adata = adata[adata.obs.pct_counts_ribo < 2]\n",
    "\n",
    "    return adata"
   ]
  },
  {
   "cell_type": "code",
   "execution_count": 6,
   "id": "bad79b4f",
   "metadata": {},
   "outputs": [],
   "source": [
    "import os"
   ]
  },
  {
   "cell_type": "code",
   "execution_count": 7,
   "id": "d533d959",
   "metadata": {},
   "outputs": [],
   "source": [
    "# Function for only taking .csv files in the directory, processing with pp function, and then appending to output\n",
    "\n",
    "def integrate_csv_data(directory):\n",
    "    out = []\n",
    "    for file in os.listdir(directory):\n",
    "        if file.endswith('.csv'):\n",
    "            csv_path = os.path.join(directory, file)\n",
    "            out.append(pp(csv_path))\n",
    "    return out"
   ]
  },
  {
   "cell_type": "code",
   "execution_count": 12,
   "id": "af105cf4",
   "metadata": {},
   "outputs": [
    {
     "name": "stderr",
     "output_type": "stream",
     "text": [
      "GPU available: False, used: False\n",
      "TPU available: False, using: 0 TPU cores\n",
      "IPU available: False, using: 0 IPUs\n",
      "HPU available: False, using: 0 HPUs\n"
     ]
    },
    {
     "name": "stdout",
     "output_type": "stream",
     "text": [
      "Epoch 400/400: 100%|█████████████| 400/400 [10:33<00:00,  1.68s/it, v_num=1, train_loss_step=355, train_loss_epoch=323]"
     ]
    },
    {
     "name": "stderr",
     "output_type": "stream",
     "text": [
      "`Trainer.fit` stopped: `max_epochs=400` reached.\n"
     ]
    },
    {
     "name": "stdout",
     "output_type": "stream",
     "text": [
      "Epoch 400/400: 100%|█████████████| 400/400 [10:33<00:00,  1.58s/it, v_num=1, train_loss_step=355, train_loss_epoch=323]\n",
      "\u001b[34mINFO    \u001b[0m Creating doublets, preparing SOLO model.                                                                  \n"
     ]
    },
    {
     "name": "stderr",
     "output_type": "stream",
     "text": [
      "GPU available: False, used: False\n",
      "TPU available: False, using: 0 TPU cores\n",
      "IPU available: False, using: 0 IPUs\n",
      "HPU available: False, using: 0 HPUs\n"
     ]
    },
    {
     "name": "stdout",
     "output_type": "stream",
     "text": [
      "Epoch 189/400:  47%|████▎    | 189/400 [01:01<01:08,  3.09it/s, v_num=1, train_loss_step=0.259, train_loss_epoch=0.295]\n",
      "Monitored metric validation_loss did not improve in the last 30 records. Best score: 0.296. Signaling Trainer to stop.\n"
     ]
    },
    {
     "name": "stderr",
     "output_type": "stream",
     "text": [
      "C:\\Users\\chris\\AppData\\Roaming\\Python\\Python311\\site-packages\\scanpy\\preprocessing\\_simple.py:139: ImplicitModificationWarning: Trying to modify attribute `.obs` of view, initializing view as actual.\n",
      "  adata.obs['n_genes'] = number\n",
      "GPU available: False, used: False\n",
      "TPU available: False, using: 0 TPU cores\n",
      "IPU available: False, using: 0 IPUs\n",
      "HPU available: False, using: 0 HPUs\n"
     ]
    },
    {
     "name": "stdout",
     "output_type": "stream",
     "text": [
      "Epoch 400/400: 100%|█████████████| 400/400 [08:23<00:00,  1.32s/it, v_num=1, train_loss_step=457, train_loss_epoch=397]"
     ]
    },
    {
     "name": "stderr",
     "output_type": "stream",
     "text": [
      "`Trainer.fit` stopped: `max_epochs=400` reached.\n"
     ]
    },
    {
     "name": "stdout",
     "output_type": "stream",
     "text": [
      "Epoch 400/400: 100%|█████████████| 400/400 [08:23<00:00,  1.26s/it, v_num=1, train_loss_step=457, train_loss_epoch=397]\n",
      "\u001b[34mINFO    \u001b[0m Creating doublets, preparing SOLO model.                                                                  \n"
     ]
    },
    {
     "name": "stderr",
     "output_type": "stream",
     "text": [
      "GPU available: False, used: False\n",
      "TPU available: False, using: 0 TPU cores\n",
      "IPU available: False, using: 0 IPUs\n",
      "HPU available: False, using: 0 HPUs\n"
     ]
    },
    {
     "name": "stdout",
     "output_type": "stream",
     "text": [
      "Epoch 206/400:  52%|████▋    | 206/400 [00:51<00:48,  3.97it/s, v_num=1, train_loss_step=0.215, train_loss_epoch=0.301]\n",
      "Monitored metric validation_loss did not improve in the last 30 records. Best score: 0.285. Signaling Trainer to stop.\n"
     ]
    },
    {
     "name": "stderr",
     "output_type": "stream",
     "text": [
      "C:\\Users\\chris\\AppData\\Roaming\\Python\\Python311\\site-packages\\scanpy\\preprocessing\\_simple.py:139: ImplicitModificationWarning: Trying to modify attribute `.obs` of view, initializing view as actual.\n",
      "  adata.obs['n_genes'] = number\n",
      "GPU available: False, used: False\n",
      "TPU available: False, using: 0 TPU cores\n",
      "IPU available: False, using: 0 IPUs\n",
      "HPU available: False, using: 0 HPUs\n"
     ]
    },
    {
     "name": "stdout",
     "output_type": "stream",
     "text": [
      "Epoch 400/400: 100%|█████████████| 400/400 [13:08<00:00,  1.94s/it, v_num=1, train_loss_step=344, train_loss_epoch=332]"
     ]
    },
    {
     "name": "stderr",
     "output_type": "stream",
     "text": [
      "`Trainer.fit` stopped: `max_epochs=400` reached.\n"
     ]
    },
    {
     "name": "stdout",
     "output_type": "stream",
     "text": [
      "Epoch 400/400: 100%|█████████████| 400/400 [13:08<00:00,  1.97s/it, v_num=1, train_loss_step=344, train_loss_epoch=332]\n",
      "\u001b[34mINFO    \u001b[0m Creating doublets, preparing SOLO model.                                                                  \n"
     ]
    },
    {
     "name": "stderr",
     "output_type": "stream",
     "text": [
      "GPU available: False, used: False\n",
      "TPU available: False, using: 0 TPU cores\n",
      "IPU available: False, using: 0 IPUs\n",
      "HPU available: False, using: 0 HPUs\n"
     ]
    },
    {
     "name": "stdout",
     "output_type": "stream",
     "text": [
      "Epoch 194/400:  48%|████▊     | 194/400 [01:12<01:16,  2.69it/s, v_num=1, train_loss_step=0.283, train_loss_epoch=0.32]\n",
      "Monitored metric validation_loss did not improve in the last 30 records. Best score: 0.301. Signaling Trainer to stop.\n"
     ]
    },
    {
     "name": "stderr",
     "output_type": "stream",
     "text": [
      "C:\\Users\\chris\\AppData\\Roaming\\Python\\Python311\\site-packages\\scanpy\\preprocessing\\_simple.py:139: ImplicitModificationWarning: Trying to modify attribute `.obs` of view, initializing view as actual.\n",
      "  adata.obs['n_genes'] = number\n",
      "GPU available: False, used: False\n",
      "TPU available: False, using: 0 TPU cores\n",
      "IPU available: False, using: 0 IPUs\n",
      "HPU available: False, using: 0 HPUs\n"
     ]
    },
    {
     "name": "stdout",
     "output_type": "stream",
     "text": [
      "Epoch 400/400: 100%|█████████████| 400/400 [07:17<00:00,  1.10s/it, v_num=1, train_loss_step=316, train_loss_epoch=308]"
     ]
    },
    {
     "name": "stderr",
     "output_type": "stream",
     "text": [
      "`Trainer.fit` stopped: `max_epochs=400` reached.\n"
     ]
    },
    {
     "name": "stdout",
     "output_type": "stream",
     "text": [
      "Epoch 400/400: 100%|█████████████| 400/400 [07:17<00:00,  1.09s/it, v_num=1, train_loss_step=316, train_loss_epoch=308]\n",
      "\u001b[34mINFO    \u001b[0m Creating doublets, preparing SOLO model.                                                                  \n"
     ]
    },
    {
     "name": "stderr",
     "output_type": "stream",
     "text": [
      "GPU available: False, used: False\n",
      "TPU available: False, using: 0 TPU cores\n",
      "IPU available: False, using: 0 IPUs\n",
      "HPU available: False, using: 0 HPUs\n"
     ]
    },
    {
     "name": "stdout",
     "output_type": "stream",
     "text": [
      "Epoch 203/400:  51%|████▌    | 203/400 [00:43<00:42,  4.63it/s, v_num=1, train_loss_step=0.262, train_loss_epoch=0.247]\n",
      "Monitored metric validation_loss did not improve in the last 30 records. Best score: 0.220. Signaling Trainer to stop.\n"
     ]
    },
    {
     "name": "stderr",
     "output_type": "stream",
     "text": [
      "C:\\Users\\chris\\AppData\\Roaming\\Python\\Python311\\site-packages\\scanpy\\preprocessing\\_simple.py:139: ImplicitModificationWarning: Trying to modify attribute `.obs` of view, initializing view as actual.\n",
      "  adata.obs['n_genes'] = number\n",
      "GPU available: False, used: False\n",
      "TPU available: False, using: 0 TPU cores\n",
      "IPU available: False, using: 0 IPUs\n",
      "HPU available: False, using: 0 HPUs\n"
     ]
    },
    {
     "name": "stdout",
     "output_type": "stream",
     "text": [
      "Epoch 400/400: 100%|█████████████| 400/400 [09:44<00:00,  1.48s/it, v_num=1, train_loss_step=305, train_loss_epoch=306]"
     ]
    },
    {
     "name": "stderr",
     "output_type": "stream",
     "text": [
      "`Trainer.fit` stopped: `max_epochs=400` reached.\n"
     ]
    },
    {
     "name": "stdout",
     "output_type": "stream",
     "text": [
      "Epoch 400/400: 100%|█████████████| 400/400 [09:44<00:00,  1.46s/it, v_num=1, train_loss_step=305, train_loss_epoch=306]\n",
      "\u001b[34mINFO    \u001b[0m Creating doublets, preparing SOLO model.                                                                  \n"
     ]
    },
    {
     "name": "stderr",
     "output_type": "stream",
     "text": [
      "GPU available: False, used: False\n",
      "TPU available: False, using: 0 TPU cores\n",
      "IPU available: False, using: 0 IPUs\n",
      "HPU available: False, using: 0 HPUs\n"
     ]
    },
    {
     "name": "stdout",
     "output_type": "stream",
     "text": [
      "Epoch 159/400:  40%|███▌     | 159/400 [00:44<01:06,  3.61it/s, v_num=1, train_loss_step=0.177, train_loss_epoch=0.227]\n",
      "Monitored metric validation_loss did not improve in the last 30 records. Best score: 0.238. Signaling Trainer to stop.\n"
     ]
    },
    {
     "name": "stderr",
     "output_type": "stream",
     "text": [
      "C:\\Users\\chris\\AppData\\Roaming\\Python\\Python311\\site-packages\\scanpy\\preprocessing\\_simple.py:139: ImplicitModificationWarning: Trying to modify attribute `.obs` of view, initializing view as actual.\n",
      "  adata.obs['n_genes'] = number\n"
     ]
    }
   ],
   "source": [
    "# Run the data integration and save to the variable data2\n",
    "data2 = integrate_csv_data(\"C:/Users/chris/Single cell practice/\")"
   ]
  },
  {
   "cell_type": "code",
   "execution_count": 13,
   "id": "eb7e0475",
   "metadata": {},
   "outputs": [
    {
     "data": {
      "text/plain": [
       "[View of AnnData object with n_obs × n_vars = 5960 × 34546\n",
       "     obs: 'Sample', 'doublet', 'n_genes', 'n_genes_by_counts', 'total_counts', 'total_counts_mt', 'pct_counts_mt', 'total_counts_ribo', 'pct_counts_ribo'\n",
       "     var: 'mt', 'ribo', 'n_cells_by_counts', 'mean_counts', 'pct_dropout_by_counts', 'total_counts',\n",
       " View of AnnData object with n_obs × n_vars = 4415 × 34546\n",
       "     obs: 'Sample', 'doublet', 'n_genes', 'n_genes_by_counts', 'total_counts', 'total_counts_mt', 'pct_counts_mt', 'total_counts_ribo', 'pct_counts_ribo'\n",
       "     var: 'mt', 'ribo', 'n_cells_by_counts', 'mean_counts', 'pct_dropout_by_counts', 'total_counts',\n",
       " View of AnnData object with n_obs × n_vars = 6928 × 34546\n",
       "     obs: 'Sample', 'doublet', 'n_genes', 'n_genes_by_counts', 'total_counts', 'total_counts_mt', 'pct_counts_mt', 'total_counts_ribo', 'pct_counts_ribo'\n",
       "     var: 'mt', 'ribo', 'n_cells_by_counts', 'mean_counts', 'pct_dropout_by_counts', 'total_counts',\n",
       " View of AnnData object with n_obs × n_vars = 4284 × 34546\n",
       "     obs: 'Sample', 'doublet', 'n_genes', 'n_genes_by_counts', 'total_counts', 'total_counts_mt', 'pct_counts_mt', 'total_counts_ribo', 'pct_counts_ribo'\n",
       "     var: 'mt', 'ribo', 'n_cells_by_counts', 'mean_counts', 'pct_dropout_by_counts', 'total_counts',\n",
       " View of AnnData object with n_obs × n_vars = 5565 × 34546\n",
       "     obs: 'Sample', 'doublet', 'n_genes', 'n_genes_by_counts', 'total_counts', 'total_counts_mt', 'pct_counts_mt', 'total_counts_ribo', 'pct_counts_ribo'\n",
       "     var: 'mt', 'ribo', 'n_cells_by_counts', 'mean_counts', 'pct_dropout_by_counts', 'total_counts']"
      ]
     },
     "execution_count": 13,
     "metadata": {},
     "output_type": "execute_result"
    }
   ],
   "source": [
    "data2"
   ]
  },
  {
   "cell_type": "code",
   "execution_count": 14,
   "id": "b5c2794a",
   "metadata": {},
   "outputs": [
    {
     "data": {
      "text/plain": [
       "AnnData object with n_obs × n_vars = 27152 × 34546\n",
       "    obs: 'Sample', 'doublet', 'n_genes', 'n_genes_by_counts', 'total_counts', 'total_counts_mt', 'pct_counts_mt', 'total_counts_ribo', 'pct_counts_ribo'"
      ]
     },
     "execution_count": 14,
     "metadata": {},
     "output_type": "execute_result"
    }
   ],
   "source": [
    "# Concatonate the datasets into a single object \n",
    "data = sc.concat(data2)\n",
    "data"
   ]
  },
  {
   "cell_type": "code",
   "execution_count": 15,
   "id": "7655c5e9",
   "metadata": {},
   "outputs": [
    {
     "data": {
      "text/plain": [
       "array([[0., 0., 0., ..., 0., 0., 0.],\n",
       "       [0., 0., 0., ..., 0., 0., 0.],\n",
       "       [0., 0., 0., ..., 0., 0., 0.],\n",
       "       ...,\n",
       "       [0., 0., 0., ..., 0., 0., 0.],\n",
       "       [0., 0., 0., ..., 0., 0., 0.],\n",
       "       [0., 0., 0., ..., 0., 0., 0.]], dtype=float32)"
      ]
     },
     "execution_count": 15,
     "metadata": {},
     "output_type": "execute_result"
    }
   ],
   "source": [
    "# Filter out genes present in <10 cells\n",
    "sc.pp.filter_genes(data, min_cells=10)\n",
    "data.X"
   ]
  },
  {
   "cell_type": "code",
   "execution_count": 16,
   "id": "ab5b30e8",
   "metadata": {},
   "outputs": [],
   "source": [
    "#Convert to sparse matrix to reduce strain on memory\n",
    "from scipy.sparse import csr_matrix"
   ]
  },
  {
   "cell_type": "code",
   "execution_count": 17,
   "id": "0a2b8d30",
   "metadata": {},
   "outputs": [
    {
     "data": {
      "text/plain": [
       "<27152x24995 sparse matrix of type '<class 'numpy.float32'>'\n",
       "\twith 22706309 stored elements in Compressed Sparse Row format>"
      ]
     },
     "execution_count": 17,
     "metadata": {},
     "output_type": "execute_result"
    }
   ],
   "source": [
    "data.X = csr_matrix(data.X)\n",
    "data.X"
   ]
  },
  {
   "cell_type": "code",
   "execution_count": 18,
   "id": "8b5b3268",
   "metadata": {},
   "outputs": [],
   "source": [
    "# Save the data\n",
    "data.write_h5ad('combined.h5ad')"
   ]
  },
  {
   "cell_type": "code",
   "execution_count": 19,
   "id": "ec7dac1f",
   "metadata": {},
   "outputs": [
    {
     "data": {
      "text/plain": [
       "AnnData object with n_obs × n_vars = 27152 × 24995\n",
       "    obs: 'Sample', 'doublet', 'n_genes', 'n_genes_by_counts', 'total_counts', 'total_counts_mt', 'pct_counts_mt', 'total_counts_ribo', 'pct_counts_ribo'\n",
       "    var: 'n_cells'"
      ]
     },
     "execution_count": 19,
     "metadata": {},
     "output_type": "execute_result"
    }
   ],
   "source": [
    "# Read the saved data file\n",
    "data = sc.read_h5ad('combined.h5ad')\n",
    "data"
   ]
  },
  {
   "cell_type": "code",
   "execution_count": 20,
   "id": "50ddf5e1",
   "metadata": {},
   "outputs": [
    {
     "data": {
      "text/html": [
       "<div>\n",
       "<style scoped>\n",
       "    .dataframe tbody tr th:only-of-type {\n",
       "        vertical-align: middle;\n",
       "    }\n",
       "\n",
       "    .dataframe tbody tr th {\n",
       "        vertical-align: top;\n",
       "    }\n",
       "\n",
       "    .dataframe thead th {\n",
       "        text-align: right;\n",
       "    }\n",
       "</style>\n",
       "<table border=\"1\" class=\"dataframe\">\n",
       "  <thead>\n",
       "    <tr style=\"text-align: right;\">\n",
       "      <th></th>\n",
       "      <th>doublet</th>\n",
       "      <th>n_genes</th>\n",
       "      <th>n_genes_by_counts</th>\n",
       "      <th>total_counts</th>\n",
       "      <th>total_counts_mt</th>\n",
       "      <th>pct_counts_mt</th>\n",
       "      <th>total_counts_ribo</th>\n",
       "      <th>pct_counts_ribo</th>\n",
       "    </tr>\n",
       "    <tr>\n",
       "      <th>Sample</th>\n",
       "      <th></th>\n",
       "      <th></th>\n",
       "      <th></th>\n",
       "      <th></th>\n",
       "      <th></th>\n",
       "      <th></th>\n",
       "      <th></th>\n",
       "      <th></th>\n",
       "    </tr>\n",
       "  </thead>\n",
       "  <tbody>\n",
       "    <tr>\n",
       "      <th>C51ctr</th>\n",
       "      <td>5960</td>\n",
       "      <td>5960</td>\n",
       "      <td>5960</td>\n",
       "      <td>5960</td>\n",
       "      <td>5960</td>\n",
       "      <td>5960</td>\n",
       "      <td>5960</td>\n",
       "      <td>5960</td>\n",
       "    </tr>\n",
       "    <tr>\n",
       "      <th>C52ctr</th>\n",
       "      <td>4415</td>\n",
       "      <td>4415</td>\n",
       "      <td>4415</td>\n",
       "      <td>4415</td>\n",
       "      <td>4415</td>\n",
       "      <td>4415</td>\n",
       "      <td>4415</td>\n",
       "      <td>4415</td>\n",
       "    </tr>\n",
       "    <tr>\n",
       "      <th>C53ctr</th>\n",
       "      <td>6928</td>\n",
       "      <td>6928</td>\n",
       "      <td>6928</td>\n",
       "      <td>6928</td>\n",
       "      <td>6928</td>\n",
       "      <td>6928</td>\n",
       "      <td>6928</td>\n",
       "      <td>6928</td>\n",
       "    </tr>\n",
       "    <tr>\n",
       "      <th>C54ctr</th>\n",
       "      <td>4284</td>\n",
       "      <td>4284</td>\n",
       "      <td>4284</td>\n",
       "      <td>4284</td>\n",
       "      <td>4284</td>\n",
       "      <td>4284</td>\n",
       "      <td>4284</td>\n",
       "      <td>4284</td>\n",
       "    </tr>\n",
       "    <tr>\n",
       "      <th>C55ctr</th>\n",
       "      <td>5565</td>\n",
       "      <td>5565</td>\n",
       "      <td>5565</td>\n",
       "      <td>5565</td>\n",
       "      <td>5565</td>\n",
       "      <td>5565</td>\n",
       "      <td>5565</td>\n",
       "      <td>5565</td>\n",
       "    </tr>\n",
       "  </tbody>\n",
       "</table>\n",
       "</div>"
      ],
      "text/plain": [
       "        doublet  n_genes  n_genes_by_counts  total_counts  total_counts_mt  \\\n",
       "Sample                                                                       \n",
       "C51ctr     5960     5960               5960          5960             5960   \n",
       "C52ctr     4415     4415               4415          4415             4415   \n",
       "C53ctr     6928     6928               6928          6928             6928   \n",
       "C54ctr     4284     4284               4284          4284             4284   \n",
       "C55ctr     5565     5565               5565          5565             5565   \n",
       "\n",
       "        pct_counts_mt  total_counts_ribo  pct_counts_ribo  \n",
       "Sample                                                     \n",
       "C51ctr           5960               5960             5960  \n",
       "C52ctr           4415               4415             4415  \n",
       "C53ctr           6928               6928             6928  \n",
       "C54ctr           4284               4284             4284  \n",
       "C55ctr           5565               5565             5565  "
      ]
     },
     "execution_count": 20,
     "metadata": {},
     "output_type": "execute_result"
    }
   ],
   "source": [
    "data.obs.groupby('Sample').count()"
   ]
  },
  {
   "cell_type": "code",
   "execution_count": null,
   "id": "5c704797",
   "metadata": {},
   "outputs": [],
   "source": []
  }
 ],
 "metadata": {
  "kernelspec": {
   "display_name": "Python 3 (ipykernel)",
   "language": "python",
   "name": "python3"
  },
  "language_info": {
   "codemirror_mode": {
    "name": "ipython",
    "version": 3
   },
   "file_extension": ".py",
   "mimetype": "text/x-python",
   "name": "python",
   "nbconvert_exporter": "python",
   "pygments_lexer": "ipython3",
   "version": "3.11.4"
  }
 },
 "nbformat": 4,
 "nbformat_minor": 5
}
